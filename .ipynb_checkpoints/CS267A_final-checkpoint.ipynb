{
 "cells": [
  {
   "cell_type": "code",
   "execution_count": 2,
   "metadata": {
    "scrolled": true
   },
   "outputs": [
    {
     "name": "stdout",
     "output_type": "stream",
     "text": [
      "Requirement already satisfied: problog in /Users/wangyuchen/opt/miniconda3/envs/nn/lib/python3.10/site-packages (2.2.4)\n",
      "\n",
      "\u001b[1m[\u001b[0m\u001b[34;49mnotice\u001b[0m\u001b[1;39;49m]\u001b[0m\u001b[39;49m A new release of pip is available: \u001b[0m\u001b[31;49m23.0.1\u001b[0m\u001b[39;49m -> \u001b[0m\u001b[32;49m23.1.2\u001b[0m\n",
      "\u001b[1m[\u001b[0m\u001b[34;49mnotice\u001b[0m\u001b[1;39;49m]\u001b[0m\u001b[39;49m To update, run: \u001b[0m\u001b[32;49mpip install --upgrade pip\u001b[0m\n",
      "Note: you may need to restart the kernel to use updated packages.\n"
     ]
    }
   ],
   "source": [
    "pip install problog"
   ]
  },
  {
   "cell_type": "code",
   "execution_count": 3,
   "metadata": {},
   "outputs": [],
   "source": [
    "from problog.tasks import sample\n",
    "from problog.program import PrologString\n",
    "\n",
    "import pandas as pd\n",
    "import math\n",
    "import string\n",
    "import random"
   ]
  },
  {
   "cell_type": "markdown",
   "metadata": {},
   "source": [
    "## Pre-processing the dataset"
   ]
  },
  {
   "cell_type": "markdown",
   "metadata": {},
   "source": [
    "### 1. Read the dataset"
   ]
  },
  {
   "cell_type": "code",
   "execution_count": 20,
   "metadata": {},
   "outputs": [
    {
     "data": {
      "text/html": [
       "<div>\n",
       "<style scoped>\n",
       "    .dataframe tbody tr th:only-of-type {\n",
       "        vertical-align: middle;\n",
       "    }\n",
       "\n",
       "    .dataframe tbody tr th {\n",
       "        vertical-align: top;\n",
       "    }\n",
       "\n",
       "    .dataframe thead th {\n",
       "        text-align: right;\n",
       "    }\n",
       "</style>\n",
       "<table border=\"1\" class=\"dataframe\">\n",
       "  <thead>\n",
       "    <tr style=\"text-align: right;\">\n",
       "      <th></th>\n",
       "      <th>label</th>\n",
       "      <th>message</th>\n",
       "    </tr>\n",
       "  </thead>\n",
       "  <tbody>\n",
       "    <tr>\n",
       "      <th>0</th>\n",
       "      <td>ham</td>\n",
       "      <td>Go until jurong point, crazy.. Available only ...</td>\n",
       "    </tr>\n",
       "    <tr>\n",
       "      <th>1</th>\n",
       "      <td>ham</td>\n",
       "      <td>Ok lar... Joking wif u oni...</td>\n",
       "    </tr>\n",
       "    <tr>\n",
       "      <th>2</th>\n",
       "      <td>spam</td>\n",
       "      <td>Free entry in 2 a wkly comp to win FA Cup fina...</td>\n",
       "    </tr>\n",
       "    <tr>\n",
       "      <th>3</th>\n",
       "      <td>ham</td>\n",
       "      <td>U dun say so early hor... U c already then say...</td>\n",
       "    </tr>\n",
       "    <tr>\n",
       "      <th>4</th>\n",
       "      <td>ham</td>\n",
       "      <td>Nah I don't think he goes to usf, he lives aro...</td>\n",
       "    </tr>\n",
       "  </tbody>\n",
       "</table>\n",
       "</div>"
      ],
      "text/plain": [
       "  label                                            message\n",
       "0   ham  Go until jurong point, crazy.. Available only ...\n",
       "1   ham                      Ok lar... Joking wif u oni...\n",
       "2  spam  Free entry in 2 a wkly comp to win FA Cup fina...\n",
       "3   ham  U dun say so early hor... U c already then say...\n",
       "4   ham  Nah I don't think he goes to usf, he lives aro..."
      ]
     },
     "execution_count": 20,
     "metadata": {},
     "output_type": "execute_result"
    }
   ],
   "source": [
    "sms = pd.read_csv('sms_spam', sep='\\t', names=['label', 'message'])\n",
    "sms.head()"
   ]
  },
  {
   "cell_type": "code",
   "execution_count": 21,
   "metadata": {},
   "outputs": [
    {
     "data": {
      "text/plain": [
       "(5572, 2)"
      ]
     },
     "execution_count": 21,
     "metadata": {},
     "output_type": "execute_result"
    }
   ],
   "source": [
    "sms.shape"
   ]
  },
  {
   "cell_type": "markdown",
   "metadata": {},
   "source": [
    "### 2. Splitting the dataset into training set and test set"
   ]
  },
  {
   "cell_type": "code",
   "execution_count": 24,
   "metadata": {},
   "outputs": [
    {
     "name": "stdout",
     "output_type": "stream",
     "text": [
      "  label                                            message\n",
      "0   ham                       Yep, by the pretty sculpture\n",
      "1   ham      Yes, princess. Are you going to make me moan?\n",
      "2   ham                         Welp apparently he retired\n",
      "3   ham                                            Havent.\n",
      "4   ham  I forgot 2 ask ü all smth.. There's a card on ...\n",
      "  label                                            message\n",
      "0   ham  Yeah do! Don‘t stand to close tho- you‘ll catc...\n",
      "1   ham  Hi , where are you? We're at  and they're not ...\n",
      "2   ham        If you r @ home then come down within 5 min\n",
      "3   ham  When're you guys getting back? G said you were...\n",
      "4   ham  Tell my  bad character which u Dnt lik in me. ...\n"
     ]
    },
    {
     "data": {
      "text/plain": [
       "str"
      ]
     },
     "execution_count": 24,
     "metadata": {},
     "output_type": "execute_result"
    }
   ],
   "source": [
    "# Randomize the dataset\n",
    "sms_randomized = sms.sample(frac=1, random_state=1)\n",
    "\n",
    "# 20% test set and 80% training set\n",
    "test_index = math.floor(5572 * 0.2)\n",
    "\n",
    "test_sms = sms_randomized[:test_index]\n",
    "training_sms = sms_randomized[test_index:]\n",
    "\n",
    "test_sms = test_sms.reset_index(drop = True)\n",
    "training_sms = training_sms.reset_index(drop = True)\n",
    "\n",
    "print(test_sms.head())\n",
    "print(training_sms.head())\n",
    "type(training_sms['message'][0])"
   ]
  },
  {
   "cell_type": "markdown",
   "metadata": {},
   "source": [
    "## Data Cleaning"
   ]
  },
  {
   "cell_type": "markdown",
   "metadata": {},
   "source": [
    "### 1. Remove all the punctuation and transform words to lower case in the messages"
   ]
  },
  {
   "cell_type": "code",
   "execution_count": 26,
   "metadata": {},
   "outputs": [
    {
     "name": "stdout",
     "output_type": "stream",
     "text": [
      "  label                                            message\n",
      "0   ham                        yep by the pretty sculpture\n",
      "1   ham         yes princess are you going to make me moan\n",
      "2   ham                         welp apparently he retired\n",
      "3   ham                                             havent\n",
      "4   ham  i forgot 2 ask ü all smth theres a card on da ...\n",
      "  label                                            message\n",
      "0   ham  yeah do don‘t stand to close tho you‘ll catch ...\n",
      "1   ham  hi  where are you were at  and theyre not keen...\n",
      "2   ham         if you r  home then come down within 5 min\n",
      "3   ham  whenre you guys getting back g said you were t...\n",
      "4   ham  tell my  bad character which u dnt lik in me i...\n"
     ]
    }
   ],
   "source": [
    "punctuation = string.punctuation\n",
    "\n",
    "# Remove all the punctuation in the messages of testing data\n",
    "for i in range(len(test_sms)):\n",
    "    for l in test_sms[\"message\"][i]:\n",
    "        if l in punctuation:\n",
    "            test_sms[\"message\"][i] = test_sms[\"message\"][i].replace(l, \"\")\n",
    "    # Transform to lower case\n",
    "    test_sms[\"message\"][i] = test_sms[\"message\"][i].lower()\n",
    "\n",
    "# Remove all the punctuation in the messages of training data\n",
    "for i in range(len(training_sms)):\n",
    "    for l in training_sms[\"message\"][i]:\n",
    "        if l in punctuation:\n",
    "            training_sms[\"message\"][i] = training_sms[\"message\"][i].replace(l, \"\")\n",
    "            \n",
    "    # Transform to lower case\n",
    "    training_sms[\"message\"][i] = training_sms[\"message\"][i].lower()\n",
    "            \n",
    "print(test_sms.head())\n",
    "print(training_sms.head())"
   ]
  },
  {
   "cell_type": "markdown",
   "metadata": {},
   "source": [
    "### 2. Splitting the message into words for training dataset"
   ]
  },
  {
   "cell_type": "markdown",
   "metadata": {},
   "source": [
    "#### a. Finding all the words in the dataset"
   ]
  },
  {
   "cell_type": "code",
   "execution_count": 27,
   "metadata": {},
   "outputs": [],
   "source": [
    "words = []\n",
    "\n",
    "for message in training_sms['message']:\n",
    "    words_sms = message.split()\n",
    "    for word in words_sms:\n",
    "        if word not in words:\n",
    "            words.append(word)"
   ]
  },
  {
   "cell_type": "code",
   "execution_count": 28,
   "metadata": {},
   "outputs": [
    {
     "data": {
      "text/plain": [
       "8484"
      ]
     },
     "execution_count": 28,
     "metadata": {},
     "output_type": "execute_result"
    }
   ],
   "source": [
    "len(words) # There are 8484 unique words in all training messages"
   ]
  },
  {
   "cell_type": "markdown",
   "metadata": {},
   "source": [
    "#### b. Counting the number times of each words appear in each message"
   ]
  },
  {
   "cell_type": "code",
   "execution_count": 29,
   "metadata": {},
   "outputs": [],
   "source": [
    "words_count = {}\n",
    "for word in words:\n",
    "    words_count[word] = [] \n",
    "\n",
    "for message in training_sms['message']:\n",
    "    for word in words:\n",
    "        count = message.count(word)\n",
    "        words_count[word].append(count)"
   ]
  },
  {
   "cell_type": "code",
   "execution_count": 30,
   "metadata": {},
   "outputs": [
    {
     "data": {
      "text/html": [
       "<div>\n",
       "<style scoped>\n",
       "    .dataframe tbody tr th:only-of-type {\n",
       "        vertical-align: middle;\n",
       "    }\n",
       "\n",
       "    .dataframe tbody tr th {\n",
       "        vertical-align: top;\n",
       "    }\n",
       "\n",
       "    .dataframe thead th {\n",
       "        text-align: right;\n",
       "    }\n",
       "</style>\n",
       "<table border=\"1\" class=\"dataframe\">\n",
       "  <thead>\n",
       "    <tr style=\"text-align: right;\">\n",
       "      <th></th>\n",
       "      <th>yeah</th>\n",
       "      <th>do</th>\n",
       "      <th>don‘t</th>\n",
       "      <th>stand</th>\n",
       "      <th>to</th>\n",
       "      <th>close</th>\n",
       "      <th>tho</th>\n",
       "      <th>you‘ll</th>\n",
       "      <th>catch</th>\n",
       "      <th>something</th>\n",
       "      <th>...</th>\n",
       "      <th>skyving</th>\n",
       "      <th>kkyesterday</th>\n",
       "      <th>arr</th>\n",
       "      <th>oscar</th>\n",
       "      <th>assumed</th>\n",
       "      <th>ceri</th>\n",
       "      <th>rebel</th>\n",
       "      <th>dreamz</th>\n",
       "      <th>buddy</th>\n",
       "      <th>recdthirtyeight</th>\n",
       "    </tr>\n",
       "  </thead>\n",
       "  <tbody>\n",
       "    <tr>\n",
       "      <th>0</th>\n",
       "      <td>1</td>\n",
       "      <td>2</td>\n",
       "      <td>1</td>\n",
       "      <td>1</td>\n",
       "      <td>1</td>\n",
       "      <td>1</td>\n",
       "      <td>1</td>\n",
       "      <td>1</td>\n",
       "      <td>1</td>\n",
       "      <td>1</td>\n",
       "      <td>...</td>\n",
       "      <td>0</td>\n",
       "      <td>0</td>\n",
       "      <td>0</td>\n",
       "      <td>0</td>\n",
       "      <td>0</td>\n",
       "      <td>0</td>\n",
       "      <td>0</td>\n",
       "      <td>0</td>\n",
       "      <td>0</td>\n",
       "      <td>0</td>\n",
       "    </tr>\n",
       "    <tr>\n",
       "      <th>1</th>\n",
       "      <td>0</td>\n",
       "      <td>2</td>\n",
       "      <td>0</td>\n",
       "      <td>0</td>\n",
       "      <td>2</td>\n",
       "      <td>0</td>\n",
       "      <td>0</td>\n",
       "      <td>0</td>\n",
       "      <td>0</td>\n",
       "      <td>0</td>\n",
       "      <td>...</td>\n",
       "      <td>0</td>\n",
       "      <td>0</td>\n",
       "      <td>0</td>\n",
       "      <td>0</td>\n",
       "      <td>0</td>\n",
       "      <td>0</td>\n",
       "      <td>0</td>\n",
       "      <td>0</td>\n",
       "      <td>0</td>\n",
       "      <td>0</td>\n",
       "    </tr>\n",
       "    <tr>\n",
       "      <th>2</th>\n",
       "      <td>0</td>\n",
       "      <td>1</td>\n",
       "      <td>0</td>\n",
       "      <td>0</td>\n",
       "      <td>0</td>\n",
       "      <td>0</td>\n",
       "      <td>0</td>\n",
       "      <td>0</td>\n",
       "      <td>0</td>\n",
       "      <td>0</td>\n",
       "      <td>...</td>\n",
       "      <td>0</td>\n",
       "      <td>0</td>\n",
       "      <td>0</td>\n",
       "      <td>0</td>\n",
       "      <td>0</td>\n",
       "      <td>0</td>\n",
       "      <td>0</td>\n",
       "      <td>0</td>\n",
       "      <td>0</td>\n",
       "      <td>0</td>\n",
       "    </tr>\n",
       "    <tr>\n",
       "      <th>3</th>\n",
       "      <td>0</td>\n",
       "      <td>0</td>\n",
       "      <td>0</td>\n",
       "      <td>0</td>\n",
       "      <td>0</td>\n",
       "      <td>0</td>\n",
       "      <td>0</td>\n",
       "      <td>0</td>\n",
       "      <td>0</td>\n",
       "      <td>0</td>\n",
       "      <td>...</td>\n",
       "      <td>0</td>\n",
       "      <td>0</td>\n",
       "      <td>0</td>\n",
       "      <td>0</td>\n",
       "      <td>0</td>\n",
       "      <td>0</td>\n",
       "      <td>0</td>\n",
       "      <td>0</td>\n",
       "      <td>0</td>\n",
       "      <td>0</td>\n",
       "    </tr>\n",
       "    <tr>\n",
       "      <th>4</th>\n",
       "      <td>0</td>\n",
       "      <td>0</td>\n",
       "      <td>0</td>\n",
       "      <td>0</td>\n",
       "      <td>1</td>\n",
       "      <td>0</td>\n",
       "      <td>0</td>\n",
       "      <td>0</td>\n",
       "      <td>0</td>\n",
       "      <td>0</td>\n",
       "      <td>...</td>\n",
       "      <td>0</td>\n",
       "      <td>0</td>\n",
       "      <td>0</td>\n",
       "      <td>0</td>\n",
       "      <td>0</td>\n",
       "      <td>0</td>\n",
       "      <td>0</td>\n",
       "      <td>0</td>\n",
       "      <td>0</td>\n",
       "      <td>0</td>\n",
       "    </tr>\n",
       "  </tbody>\n",
       "</table>\n",
       "<p>5 rows × 8484 columns</p>\n",
       "</div>"
      ],
      "text/plain": [
       "   yeah  do  don‘t  stand  to  close  tho  you‘ll  catch  something  ...  \\\n",
       "0     1   2      1      1   1      1    1       1      1          1  ...   \n",
       "1     0   2      0      0   2      0    0       0      0          0  ...   \n",
       "2     0   1      0      0   0      0    0       0      0          0  ...   \n",
       "3     0   0      0      0   0      0    0       0      0          0  ...   \n",
       "4     0   0      0      0   1      0    0       0      0          0  ...   \n",
       "\n",
       "   skyving  kkyesterday  arr  oscar  assumed  ceri  rebel  dreamz  buddy  \\\n",
       "0        0            0    0      0        0     0      0       0      0   \n",
       "1        0            0    0      0        0     0      0       0      0   \n",
       "2        0            0    0      0        0     0      0       0      0   \n",
       "3        0            0    0      0        0     0      0       0      0   \n",
       "4        0            0    0      0        0     0      0       0      0   \n",
       "\n",
       "   recdthirtyeight  \n",
       "0                0  \n",
       "1                0  \n",
       "2                0  \n",
       "3                0  \n",
       "4                0  \n",
       "\n",
       "[5 rows x 8484 columns]"
      ]
     },
     "execution_count": 30,
     "metadata": {},
     "output_type": "execute_result"
    }
   ],
   "source": [
    "words_count_data = pd.DataFrame(words_count)\n",
    "words_count_data.head()"
   ]
  },
  {
   "cell_type": "markdown",
   "metadata": {},
   "source": [
    "#### c. Combine the words_count dataframe with the training_sms dataset"
   ]
  },
  {
   "cell_type": "code",
   "execution_count": 31,
   "metadata": {},
   "outputs": [
    {
     "data": {
      "text/html": [
       "<div>\n",
       "<style scoped>\n",
       "    .dataframe tbody tr th:only-of-type {\n",
       "        vertical-align: middle;\n",
       "    }\n",
       "\n",
       "    .dataframe tbody tr th {\n",
       "        vertical-align: top;\n",
       "    }\n",
       "\n",
       "    .dataframe thead th {\n",
       "        text-align: right;\n",
       "    }\n",
       "</style>\n",
       "<table border=\"1\" class=\"dataframe\">\n",
       "  <thead>\n",
       "    <tr style=\"text-align: right;\">\n",
       "      <th></th>\n",
       "      <th>label</th>\n",
       "      <th>message</th>\n",
       "      <th>yeah</th>\n",
       "      <th>do</th>\n",
       "      <th>don‘t</th>\n",
       "      <th>stand</th>\n",
       "      <th>to</th>\n",
       "      <th>close</th>\n",
       "      <th>tho</th>\n",
       "      <th>you‘ll</th>\n",
       "      <th>...</th>\n",
       "      <th>skyving</th>\n",
       "      <th>kkyesterday</th>\n",
       "      <th>arr</th>\n",
       "      <th>oscar</th>\n",
       "      <th>assumed</th>\n",
       "      <th>ceri</th>\n",
       "      <th>rebel</th>\n",
       "      <th>dreamz</th>\n",
       "      <th>buddy</th>\n",
       "      <th>recdthirtyeight</th>\n",
       "    </tr>\n",
       "  </thead>\n",
       "  <tbody>\n",
       "    <tr>\n",
       "      <th>0</th>\n",
       "      <td>ham</td>\n",
       "      <td>yeah do don‘t stand to close tho you‘ll catch ...</td>\n",
       "      <td>1</td>\n",
       "      <td>2</td>\n",
       "      <td>1</td>\n",
       "      <td>1</td>\n",
       "      <td>1</td>\n",
       "      <td>1</td>\n",
       "      <td>1</td>\n",
       "      <td>1</td>\n",
       "      <td>...</td>\n",
       "      <td>0</td>\n",
       "      <td>0</td>\n",
       "      <td>0</td>\n",
       "      <td>0</td>\n",
       "      <td>0</td>\n",
       "      <td>0</td>\n",
       "      <td>0</td>\n",
       "      <td>0</td>\n",
       "      <td>0</td>\n",
       "      <td>0</td>\n",
       "    </tr>\n",
       "    <tr>\n",
       "      <th>1</th>\n",
       "      <td>ham</td>\n",
       "      <td>hi  where are you were at  and theyre not keen...</td>\n",
       "      <td>0</td>\n",
       "      <td>2</td>\n",
       "      <td>0</td>\n",
       "      <td>0</td>\n",
       "      <td>2</td>\n",
       "      <td>0</td>\n",
       "      <td>0</td>\n",
       "      <td>0</td>\n",
       "      <td>...</td>\n",
       "      <td>0</td>\n",
       "      <td>0</td>\n",
       "      <td>0</td>\n",
       "      <td>0</td>\n",
       "      <td>0</td>\n",
       "      <td>0</td>\n",
       "      <td>0</td>\n",
       "      <td>0</td>\n",
       "      <td>0</td>\n",
       "      <td>0</td>\n",
       "    </tr>\n",
       "    <tr>\n",
       "      <th>2</th>\n",
       "      <td>ham</td>\n",
       "      <td>if you r  home then come down within 5 min</td>\n",
       "      <td>0</td>\n",
       "      <td>1</td>\n",
       "      <td>0</td>\n",
       "      <td>0</td>\n",
       "      <td>0</td>\n",
       "      <td>0</td>\n",
       "      <td>0</td>\n",
       "      <td>0</td>\n",
       "      <td>...</td>\n",
       "      <td>0</td>\n",
       "      <td>0</td>\n",
       "      <td>0</td>\n",
       "      <td>0</td>\n",
       "      <td>0</td>\n",
       "      <td>0</td>\n",
       "      <td>0</td>\n",
       "      <td>0</td>\n",
       "      <td>0</td>\n",
       "      <td>0</td>\n",
       "    </tr>\n",
       "    <tr>\n",
       "      <th>3</th>\n",
       "      <td>ham</td>\n",
       "      <td>whenre you guys getting back g said you were t...</td>\n",
       "      <td>0</td>\n",
       "      <td>0</td>\n",
       "      <td>0</td>\n",
       "      <td>0</td>\n",
       "      <td>0</td>\n",
       "      <td>0</td>\n",
       "      <td>0</td>\n",
       "      <td>0</td>\n",
       "      <td>...</td>\n",
       "      <td>0</td>\n",
       "      <td>0</td>\n",
       "      <td>0</td>\n",
       "      <td>0</td>\n",
       "      <td>0</td>\n",
       "      <td>0</td>\n",
       "      <td>0</td>\n",
       "      <td>0</td>\n",
       "      <td>0</td>\n",
       "      <td>0</td>\n",
       "    </tr>\n",
       "    <tr>\n",
       "      <th>4</th>\n",
       "      <td>ham</td>\n",
       "      <td>tell my  bad character which u dnt lik in me i...</td>\n",
       "      <td>0</td>\n",
       "      <td>0</td>\n",
       "      <td>0</td>\n",
       "      <td>0</td>\n",
       "      <td>1</td>\n",
       "      <td>0</td>\n",
       "      <td>0</td>\n",
       "      <td>0</td>\n",
       "      <td>...</td>\n",
       "      <td>0</td>\n",
       "      <td>0</td>\n",
       "      <td>0</td>\n",
       "      <td>0</td>\n",
       "      <td>0</td>\n",
       "      <td>0</td>\n",
       "      <td>0</td>\n",
       "      <td>0</td>\n",
       "      <td>0</td>\n",
       "      <td>0</td>\n",
       "    </tr>\n",
       "  </tbody>\n",
       "</table>\n",
       "<p>5 rows × 8486 columns</p>\n",
       "</div>"
      ],
      "text/plain": [
       "  label                                            message  yeah  do  don‘t  \\\n",
       "0   ham  yeah do don‘t stand to close tho you‘ll catch ...     1   2      1   \n",
       "1   ham  hi  where are you were at  and theyre not keen...     0   2      0   \n",
       "2   ham         if you r  home then come down within 5 min     0   1      0   \n",
       "3   ham  whenre you guys getting back g said you were t...     0   0      0   \n",
       "4   ham  tell my  bad character which u dnt lik in me i...     0   0      0   \n",
       "\n",
       "   stand  to  close  tho  you‘ll  ...  skyving  kkyesterday  arr  oscar  \\\n",
       "0      1   1      1    1       1  ...        0            0    0      0   \n",
       "1      0   2      0    0       0  ...        0            0    0      0   \n",
       "2      0   0      0    0       0  ...        0            0    0      0   \n",
       "3      0   0      0    0       0  ...        0            0    0      0   \n",
       "4      0   1      0    0       0  ...        0            0    0      0   \n",
       "\n",
       "   assumed  ceri  rebel  dreamz  buddy  recdthirtyeight  \n",
       "0        0     0      0       0      0                0  \n",
       "1        0     0      0       0      0                0  \n",
       "2        0     0      0       0      0                0  \n",
       "3        0     0      0       0      0                0  \n",
       "4        0     0      0       0      0                0  \n",
       "\n",
       "[5 rows x 8486 columns]"
      ]
     },
     "execution_count": 31,
     "metadata": {},
     "output_type": "execute_result"
    }
   ],
   "source": [
    "training_sms_count = pd.concat([training_sms, words_count_data], axis = 1)\n",
    "training_sms_count.head()"
   ]
  },
  {
   "cell_type": "code",
   "execution_count": 32,
   "metadata": {},
   "outputs": [
    {
     "data": {
      "text/plain": [
       "(4458, 8486)"
      ]
     },
     "execution_count": 32,
     "metadata": {},
     "output_type": "execute_result"
    }
   ],
   "source": [
    "training_sms_count.shape"
   ]
  },
  {
   "cell_type": "markdown",
   "metadata": {},
   "source": [
    "## Problog Example"
   ]
  },
  {
   "cell_type": "code",
   "execution_count": 15,
   "metadata": {},
   "outputs": [],
   "source": [
    "modeltext = \"\"\"\n",
    "    my_uniform(0,10)::a.\n",
    "    0.5::b.\n",
    "    c :- value(a, A), A >= 3; b.\n",
    "    query(a).\n",
    "    query(b).\n",
    "    query(c).\n",
    "\"\"\"\n",
    "\n",
    "# Define a function that generates a sample.\n",
    "def integer_uniform(a, b):\n",
    "    return math.floor(random.uniform(a, b))\n",
    "\n",
    "model = PrologString(modeltext)\n",
    "# Pass the mapping between name and function using the distributions parameter.\n",
    "result = sample.sample(model, n=3, format='dict', distributions={'my_uniform': integer_uniform})"
   ]
  },
  {
   "cell_type": "code",
   "execution_count": 16,
   "metadata": {},
   "outputs": [
    {
     "name": "stdout",
     "output_type": "stream",
     "text": [
      "{a: 7, b: False, c: True}\n",
      "{a: 4, b: False, c: True}\n",
      "{a: 9, b: False, c: True}\n"
     ]
    }
   ],
   "source": [
    "for expression in result:\n",
    "    print(expression)"
   ]
  },
  {
   "cell_type": "markdown",
   "metadata": {},
   "source": [
    "## Creating the spam filter"
   ]
  },
  {
   "cell_type": "markdown",
   "metadata": {},
   "source": [
    "#### a. Calculating the constants we need"
   ]
  },
  {
   "cell_type": "code",
   "execution_count": 56,
   "metadata": {},
   "outputs": [
    {
     "name": "stdout",
     "output_type": "stream",
     "text": [
      "n_Spam: 12960\n",
      "n_Ham: 53405\n",
      "n_Words: 8484\n"
     ]
    }
   ],
   "source": [
    "#Splits the \"spam\" and \"ham\" messages\n",
    "training_spam = training_sms[training_sms[\"label\"] == \"spam\"]\n",
    "training_ham = training_sms[training_sms[\"label\"] == \"ham\"]\n",
    "\n",
    "#Calculate N_Spam\n",
    "n_Spam = 0\n",
    "for eachmessage in training_spam[\"message\"]:\n",
    "    eachmessage = eachmessage.split(\" \")\n",
    "    curcount = 0\n",
    "    for eachword in eachmessage:\n",
    "        #empty word and numbers will not be counted as valid words\n",
    "        if eachword != \"\" and eachword.isdigit() == False:\n",
    "            curcount += 1\n",
    "    n_Spam += curcount\n",
    "\n",
    "#Calculate N_Ham\n",
    "n_Ham = 0\n",
    "for eachmessage in training_ham[\"message\"]:\n",
    "    eachmessage = eachmessage.split(\" \")\n",
    "    curcount = 0\n",
    "    for eachword in eachmessage:\n",
    "        #empty word and numbers will not be counted as valid words\n",
    "        if eachword != \"\" and eachword.isdigit() == False:\n",
    "            curcount += 1\n",
    "    n_Ham += curcount\n",
    "\n",
    "#Calculate n_Words\n",
    "n_Words = len(words)\n",
    "    \n",
    "print(\"n_Spam:\", n_Spam)\n",
    "print(\"n_Ham:\", n_Ham)\n",
    "print(\"n_Words:\", n_Words)"
   ]
  },
  {
   "cell_type": "code",
   "execution_count": null,
   "metadata": {},
   "outputs": [],
   "source": []
  }
 ],
 "metadata": {
  "kernelspec": {
   "display_name": "Python 3 (ipykernel)",
   "language": "python",
   "name": "python3"
  },
  "language_info": {
   "codemirror_mode": {
    "name": "ipython",
    "version": 3
   },
   "file_extension": ".py",
   "mimetype": "text/x-python",
   "name": "python",
   "nbconvert_exporter": "python",
   "pygments_lexer": "ipython3",
   "version": "3.10.9"
  }
 },
 "nbformat": 4,
 "nbformat_minor": 4
}
