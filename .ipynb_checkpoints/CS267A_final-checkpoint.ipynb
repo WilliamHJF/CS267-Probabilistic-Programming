{
 "cells": [
  {
   "cell_type": "code",
   "execution_count": 1,
   "metadata": {
    "scrolled": true
   },
   "outputs": [
    {
     "name": "stdout",
     "output_type": "stream",
     "text": [
      "Requirement already satisfied: problog in /Users/william/opt/anaconda3/lib/python3.8/site-packages (2.2.4)\n",
      "Note: you may need to restart the kernel to use updated packages.\n"
     ]
    }
   ],
   "source": [
    "pip install problog"
   ]
  },
  {
   "cell_type": "code",
   "execution_count": 2,
   "metadata": {},
   "outputs": [],
   "source": [
    "from problog.tasks import sample\n",
    "from problog.program import PrologString\n",
    "\n",
    "import pandas as pd\n",
    "import math\n",
    "import string\n",
    "import random\n",
    "from tabulate import tabulate"
   ]
  },
  {
   "cell_type": "markdown",
   "metadata": {},
   "source": [
    "## Pre-processing the dataset"
   ]
  },
  {
   "cell_type": "markdown",
   "metadata": {},
   "source": [
    "### 1. Read the dataset"
   ]
  },
  {
   "cell_type": "code",
   "execution_count": 3,
   "metadata": {},
   "outputs": [
    {
     "data": {
      "text/html": [
       "<div>\n",
       "<style scoped>\n",
       "    .dataframe tbody tr th:only-of-type {\n",
       "        vertical-align: middle;\n",
       "    }\n",
       "\n",
       "    .dataframe tbody tr th {\n",
       "        vertical-align: top;\n",
       "    }\n",
       "\n",
       "    .dataframe thead th {\n",
       "        text-align: right;\n",
       "    }\n",
       "</style>\n",
       "<table border=\"1\" class=\"dataframe\">\n",
       "  <thead>\n",
       "    <tr style=\"text-align: right;\">\n",
       "      <th></th>\n",
       "      <th>Label</th>\n",
       "      <th>Message</th>\n",
       "    </tr>\n",
       "  </thead>\n",
       "  <tbody>\n",
       "    <tr>\n",
       "      <th>0</th>\n",
       "      <td>ham</td>\n",
       "      <td>Go until jurong point, crazy.. Available only ...</td>\n",
       "    </tr>\n",
       "    <tr>\n",
       "      <th>1</th>\n",
       "      <td>ham</td>\n",
       "      <td>Ok lar... Joking wif u oni...</td>\n",
       "    </tr>\n",
       "    <tr>\n",
       "      <th>2</th>\n",
       "      <td>spam</td>\n",
       "      <td>Free entry in 2 a wkly comp to win FA Cup fina...</td>\n",
       "    </tr>\n",
       "    <tr>\n",
       "      <th>3</th>\n",
       "      <td>ham</td>\n",
       "      <td>U dun say so early hor... U c already then say...</td>\n",
       "    </tr>\n",
       "    <tr>\n",
       "      <th>4</th>\n",
       "      <td>ham</td>\n",
       "      <td>Nah I don't think he goes to usf, he lives aro...</td>\n",
       "    </tr>\n",
       "  </tbody>\n",
       "</table>\n",
       "</div>"
      ],
      "text/plain": [
       "  Label                                            Message\n",
       "0   ham  Go until jurong point, crazy.. Available only ...\n",
       "1   ham                      Ok lar... Joking wif u oni...\n",
       "2  spam  Free entry in 2 a wkly comp to win FA Cup fina...\n",
       "3   ham  U dun say so early hor... U c already then say...\n",
       "4   ham  Nah I don't think he goes to usf, he lives aro..."
      ]
     },
     "execution_count": 3,
     "metadata": {},
     "output_type": "execute_result"
    }
   ],
   "source": [
    "sms = pd.read_csv('sms_spam', sep='\\t', names=['Label', 'Message'])\n",
    "sms.head()"
   ]
  },
  {
   "cell_type": "code",
   "execution_count": 4,
   "metadata": {},
   "outputs": [
    {
     "data": {
      "text/plain": [
       "(5572, 2)"
      ]
     },
     "execution_count": 4,
     "metadata": {},
     "output_type": "execute_result"
    }
   ],
   "source": [
    "sms.shape"
   ]
  },
  {
   "cell_type": "markdown",
   "metadata": {},
   "source": [
    "### 2. Splitting the dataset into training set and test set"
   ]
  },
  {
   "cell_type": "code",
   "execution_count": 5,
   "metadata": {},
   "outputs": [
    {
     "name": "stdout",
     "output_type": "stream",
     "text": [
      "  Label                                            Message\n",
      "0   ham                       Yep, by the pretty sculpture\n",
      "1   ham      Yes, princess. Are you going to make me moan?\n",
      "2   ham                         Welp apparently he retired\n",
      "3   ham                                            Havent.\n",
      "4   ham  I forgot 2 ask ü all smth.. There's a card on ...\n",
      "  Label                                            Message\n",
      "0   ham  Yeah do! Don‘t stand to close tho- you‘ll catc...\n",
      "1   ham  Hi , where are you? We're at  and they're not ...\n",
      "2   ham        If you r @ home then come down within 5 min\n",
      "3   ham  When're you guys getting back? G said you were...\n",
      "4   ham  Tell my  bad character which u Dnt lik in me. ...\n"
     ]
    },
    {
     "data": {
      "text/plain": [
       "str"
      ]
     },
     "execution_count": 5,
     "metadata": {},
     "output_type": "execute_result"
    }
   ],
   "source": [
    "# Randomize the dataset\n",
    "sms_randomized = sms.sample(frac=1, random_state=1)\n",
    "\n",
    "# 20% test set and 80% training set\n",
    "test_index = math.floor(5572 * 0.2)\n",
    "\n",
    "test_sms = sms_randomized[:test_index]\n",
    "training_sms = sms_randomized[test_index:]\n",
    "\n",
    "test_sms = test_sms.reset_index(drop = True)\n",
    "training_sms = training_sms.reset_index(drop = True)\n",
    "\n",
    "print(test_sms.head())\n",
    "print(training_sms.head())\n",
    "type(training_sms['Message'][0])"
   ]
  },
  {
   "cell_type": "markdown",
   "metadata": {},
   "source": [
    "## Data Cleaning"
   ]
  },
  {
   "cell_type": "markdown",
   "metadata": {},
   "source": [
    "### 1. Remove all the punctuation and transform words to lower case in the messages"
   ]
  },
  {
   "cell_type": "code",
   "execution_count": 6,
   "metadata": {},
   "outputs": [
    {
     "name": "stdout",
     "output_type": "stream",
     "text": [
      "  Label                                            Message\n",
      "0   ham                        yep by the pretty sculpture\n",
      "1   ham         yes princess are you going to make me moan\n",
      "2   ham                         welp apparently he retired\n",
      "3   ham                                             havent\n",
      "4   ham  i forgot 2 ask ü all smth theres a card on da ...\n",
      "  Label                                            Message\n",
      "0   ham  yeah do don‘t stand to close tho you‘ll catch ...\n",
      "1   ham  hi  where are you were at  and theyre not keen...\n",
      "2   ham         if you r  home then come down within 5 min\n",
      "3   ham  whenre you guys getting back g said you were t...\n",
      "4   ham  tell my  bad character which u dnt lik in me i...\n"
     ]
    }
   ],
   "source": [
    "punctuation = string.punctuation\n",
    "\n",
    "# Remove all the punctuation in the messages of testing data\n",
    "for i in range(len(test_sms)):\n",
    "    for l in test_sms[\"Message\"][i]:\n",
    "        if l in punctuation:\n",
    "            test_sms[\"Message\"][i] = test_sms[\"Message\"][i].replace(l, \"\")\n",
    "    # Transform to lower case\n",
    "    test_sms[\"Message\"][i] = test_sms[\"Message\"][i].lower()\n",
    "\n",
    "# Remove all the punctuation in the messages of training data\n",
    "for i in range(len(training_sms)):\n",
    "    for l in training_sms[\"Message\"][i]:\n",
    "        if l in punctuation:\n",
    "            training_sms[\"Message\"][i] = training_sms[\"Message\"][i].replace(l, \"\")\n",
    "            \n",
    "    # Transform to lower case\n",
    "    training_sms[\"Message\"][i] = training_sms[\"Message\"][i].lower()\n",
    "            \n",
    "print(test_sms.head())\n",
    "print(training_sms.head())"
   ]
  },
  {
   "cell_type": "markdown",
   "metadata": {},
   "source": [
    "### 2. Splitting the message into words for training dataset"
   ]
  },
  {
   "cell_type": "markdown",
   "metadata": {},
   "source": [
    "#### a. Finding all the words in the dataset"
   ]
  },
  {
   "cell_type": "code",
   "execution_count": 7,
   "metadata": {},
   "outputs": [],
   "source": [
    "words = []\n",
    "\n",
    "for message in training_sms['Message']:\n",
    "    words_sms = message.split()\n",
    "    for word in words_sms:\n",
    "        #empty word, numbers and single character will not be counted as valid words\n",
    "        if word not in words and word != \"\" and any(char.isdigit() for char in word) == False and len(word) > 1:\n",
    "            words.append(word)"
   ]
  },
  {
   "cell_type": "code",
   "execution_count": 8,
   "metadata": {},
   "outputs": [
    {
     "data": {
      "text/plain": [
       "7322"
      ]
     },
     "execution_count": 8,
     "metadata": {},
     "output_type": "execute_result"
    }
   ],
   "source": [
    "len(words) # There are 8484 unique words in all training messages"
   ]
  },
  {
   "cell_type": "markdown",
   "metadata": {},
   "source": [
    "#### b. Counting the number times of each words appear in each message"
   ]
  },
  {
   "cell_type": "code",
   "execution_count": 9,
   "metadata": {},
   "outputs": [],
   "source": [
    "words_count = {}\n",
    "for word in words:\n",
    "    \n",
    "    words_count[word] = [] \n",
    "\n",
    "for message in training_sms['Message']:\n",
    "    for word in words:\n",
    "        count = message.count(word)\n",
    "        words_count[word].append(count)"
   ]
  },
  {
   "cell_type": "code",
   "execution_count": 10,
   "metadata": {},
   "outputs": [
    {
     "data": {
      "text/html": [
       "<div>\n",
       "<style scoped>\n",
       "    .dataframe tbody tr th:only-of-type {\n",
       "        vertical-align: middle;\n",
       "    }\n",
       "\n",
       "    .dataframe tbody tr th {\n",
       "        vertical-align: top;\n",
       "    }\n",
       "\n",
       "    .dataframe thead th {\n",
       "        text-align: right;\n",
       "    }\n",
       "</style>\n",
       "<table border=\"1\" class=\"dataframe\">\n",
       "  <thead>\n",
       "    <tr style=\"text-align: right;\">\n",
       "      <th></th>\n",
       "      <th>yeah</th>\n",
       "      <th>do</th>\n",
       "      <th>don‘t</th>\n",
       "      <th>stand</th>\n",
       "      <th>to</th>\n",
       "      <th>close</th>\n",
       "      <th>tho</th>\n",
       "      <th>you‘ll</th>\n",
       "      <th>catch</th>\n",
       "      <th>something</th>\n",
       "      <th>...</th>\n",
       "      <th>skyving</th>\n",
       "      <th>kkyesterday</th>\n",
       "      <th>arr</th>\n",
       "      <th>oscar</th>\n",
       "      <th>assumed</th>\n",
       "      <th>ceri</th>\n",
       "      <th>rebel</th>\n",
       "      <th>dreamz</th>\n",
       "      <th>buddy</th>\n",
       "      <th>recdthirtyeight</th>\n",
       "    </tr>\n",
       "  </thead>\n",
       "  <tbody>\n",
       "    <tr>\n",
       "      <th>0</th>\n",
       "      <td>1</td>\n",
       "      <td>2</td>\n",
       "      <td>1</td>\n",
       "      <td>1</td>\n",
       "      <td>1</td>\n",
       "      <td>1</td>\n",
       "      <td>1</td>\n",
       "      <td>1</td>\n",
       "      <td>1</td>\n",
       "      <td>1</td>\n",
       "      <td>...</td>\n",
       "      <td>0</td>\n",
       "      <td>0</td>\n",
       "      <td>0</td>\n",
       "      <td>0</td>\n",
       "      <td>0</td>\n",
       "      <td>0</td>\n",
       "      <td>0</td>\n",
       "      <td>0</td>\n",
       "      <td>0</td>\n",
       "      <td>0</td>\n",
       "    </tr>\n",
       "    <tr>\n",
       "      <th>1</th>\n",
       "      <td>0</td>\n",
       "      <td>2</td>\n",
       "      <td>0</td>\n",
       "      <td>0</td>\n",
       "      <td>2</td>\n",
       "      <td>0</td>\n",
       "      <td>0</td>\n",
       "      <td>0</td>\n",
       "      <td>0</td>\n",
       "      <td>0</td>\n",
       "      <td>...</td>\n",
       "      <td>0</td>\n",
       "      <td>0</td>\n",
       "      <td>0</td>\n",
       "      <td>0</td>\n",
       "      <td>0</td>\n",
       "      <td>0</td>\n",
       "      <td>0</td>\n",
       "      <td>0</td>\n",
       "      <td>0</td>\n",
       "      <td>0</td>\n",
       "    </tr>\n",
       "    <tr>\n",
       "      <th>2</th>\n",
       "      <td>0</td>\n",
       "      <td>1</td>\n",
       "      <td>0</td>\n",
       "      <td>0</td>\n",
       "      <td>0</td>\n",
       "      <td>0</td>\n",
       "      <td>0</td>\n",
       "      <td>0</td>\n",
       "      <td>0</td>\n",
       "      <td>0</td>\n",
       "      <td>...</td>\n",
       "      <td>0</td>\n",
       "      <td>0</td>\n",
       "      <td>0</td>\n",
       "      <td>0</td>\n",
       "      <td>0</td>\n",
       "      <td>0</td>\n",
       "      <td>0</td>\n",
       "      <td>0</td>\n",
       "      <td>0</td>\n",
       "      <td>0</td>\n",
       "    </tr>\n",
       "    <tr>\n",
       "      <th>3</th>\n",
       "      <td>0</td>\n",
       "      <td>0</td>\n",
       "      <td>0</td>\n",
       "      <td>0</td>\n",
       "      <td>0</td>\n",
       "      <td>0</td>\n",
       "      <td>0</td>\n",
       "      <td>0</td>\n",
       "      <td>0</td>\n",
       "      <td>0</td>\n",
       "      <td>...</td>\n",
       "      <td>0</td>\n",
       "      <td>0</td>\n",
       "      <td>0</td>\n",
       "      <td>0</td>\n",
       "      <td>0</td>\n",
       "      <td>0</td>\n",
       "      <td>0</td>\n",
       "      <td>0</td>\n",
       "      <td>0</td>\n",
       "      <td>0</td>\n",
       "    </tr>\n",
       "    <tr>\n",
       "      <th>4</th>\n",
       "      <td>0</td>\n",
       "      <td>0</td>\n",
       "      <td>0</td>\n",
       "      <td>0</td>\n",
       "      <td>1</td>\n",
       "      <td>0</td>\n",
       "      <td>0</td>\n",
       "      <td>0</td>\n",
       "      <td>0</td>\n",
       "      <td>0</td>\n",
       "      <td>...</td>\n",
       "      <td>0</td>\n",
       "      <td>0</td>\n",
       "      <td>0</td>\n",
       "      <td>0</td>\n",
       "      <td>0</td>\n",
       "      <td>0</td>\n",
       "      <td>0</td>\n",
       "      <td>0</td>\n",
       "      <td>0</td>\n",
       "      <td>0</td>\n",
       "    </tr>\n",
       "  </tbody>\n",
       "</table>\n",
       "<p>5 rows × 7322 columns</p>\n",
       "</div>"
      ],
      "text/plain": [
       "   yeah  do  don‘t  stand  to  close  tho  you‘ll  catch  something  ...  \\\n",
       "0     1   2      1      1   1      1    1       1      1          1  ...   \n",
       "1     0   2      0      0   2      0    0       0      0          0  ...   \n",
       "2     0   1      0      0   0      0    0       0      0          0  ...   \n",
       "3     0   0      0      0   0      0    0       0      0          0  ...   \n",
       "4     0   0      0      0   1      0    0       0      0          0  ...   \n",
       "\n",
       "   skyving  kkyesterday  arr  oscar  assumed  ceri  rebel  dreamz  buddy  \\\n",
       "0        0            0    0      0        0     0      0       0      0   \n",
       "1        0            0    0      0        0     0      0       0      0   \n",
       "2        0            0    0      0        0     0      0       0      0   \n",
       "3        0            0    0      0        0     0      0       0      0   \n",
       "4        0            0    0      0        0     0      0       0      0   \n",
       "\n",
       "   recdthirtyeight  \n",
       "0                0  \n",
       "1                0  \n",
       "2                0  \n",
       "3                0  \n",
       "4                0  \n",
       "\n",
       "[5 rows x 7322 columns]"
      ]
     },
     "execution_count": 10,
     "metadata": {},
     "output_type": "execute_result"
    }
   ],
   "source": [
    "words_count_data = pd.DataFrame(words_count)\n",
    "words_count_data.head()"
   ]
  },
  {
   "cell_type": "markdown",
   "metadata": {},
   "source": [
    "#### c. Combine the words_count dataframe with the training_sms dataset"
   ]
  },
  {
   "cell_type": "code",
   "execution_count": 11,
   "metadata": {},
   "outputs": [
    {
     "data": {
      "text/html": [
       "<div>\n",
       "<style scoped>\n",
       "    .dataframe tbody tr th:only-of-type {\n",
       "        vertical-align: middle;\n",
       "    }\n",
       "\n",
       "    .dataframe tbody tr th {\n",
       "        vertical-align: top;\n",
       "    }\n",
       "\n",
       "    .dataframe thead th {\n",
       "        text-align: right;\n",
       "    }\n",
       "</style>\n",
       "<table border=\"1\" class=\"dataframe\">\n",
       "  <thead>\n",
       "    <tr style=\"text-align: right;\">\n",
       "      <th></th>\n",
       "      <th>Label</th>\n",
       "      <th>Message</th>\n",
       "      <th>yeah</th>\n",
       "      <th>do</th>\n",
       "      <th>don‘t</th>\n",
       "      <th>stand</th>\n",
       "      <th>to</th>\n",
       "      <th>close</th>\n",
       "      <th>tho</th>\n",
       "      <th>you‘ll</th>\n",
       "      <th>...</th>\n",
       "      <th>skyving</th>\n",
       "      <th>kkyesterday</th>\n",
       "      <th>arr</th>\n",
       "      <th>oscar</th>\n",
       "      <th>assumed</th>\n",
       "      <th>ceri</th>\n",
       "      <th>rebel</th>\n",
       "      <th>dreamz</th>\n",
       "      <th>buddy</th>\n",
       "      <th>recdthirtyeight</th>\n",
       "    </tr>\n",
       "  </thead>\n",
       "  <tbody>\n",
       "    <tr>\n",
       "      <th>0</th>\n",
       "      <td>ham</td>\n",
       "      <td>yeah do don‘t stand to close tho you‘ll catch ...</td>\n",
       "      <td>1</td>\n",
       "      <td>2</td>\n",
       "      <td>1</td>\n",
       "      <td>1</td>\n",
       "      <td>1</td>\n",
       "      <td>1</td>\n",
       "      <td>1</td>\n",
       "      <td>1</td>\n",
       "      <td>...</td>\n",
       "      <td>0</td>\n",
       "      <td>0</td>\n",
       "      <td>0</td>\n",
       "      <td>0</td>\n",
       "      <td>0</td>\n",
       "      <td>0</td>\n",
       "      <td>0</td>\n",
       "      <td>0</td>\n",
       "      <td>0</td>\n",
       "      <td>0</td>\n",
       "    </tr>\n",
       "    <tr>\n",
       "      <th>1</th>\n",
       "      <td>ham</td>\n",
       "      <td>hi  where are you were at  and theyre not keen...</td>\n",
       "      <td>0</td>\n",
       "      <td>2</td>\n",
       "      <td>0</td>\n",
       "      <td>0</td>\n",
       "      <td>2</td>\n",
       "      <td>0</td>\n",
       "      <td>0</td>\n",
       "      <td>0</td>\n",
       "      <td>...</td>\n",
       "      <td>0</td>\n",
       "      <td>0</td>\n",
       "      <td>0</td>\n",
       "      <td>0</td>\n",
       "      <td>0</td>\n",
       "      <td>0</td>\n",
       "      <td>0</td>\n",
       "      <td>0</td>\n",
       "      <td>0</td>\n",
       "      <td>0</td>\n",
       "    </tr>\n",
       "    <tr>\n",
       "      <th>2</th>\n",
       "      <td>ham</td>\n",
       "      <td>if you r  home then come down within 5 min</td>\n",
       "      <td>0</td>\n",
       "      <td>1</td>\n",
       "      <td>0</td>\n",
       "      <td>0</td>\n",
       "      <td>0</td>\n",
       "      <td>0</td>\n",
       "      <td>0</td>\n",
       "      <td>0</td>\n",
       "      <td>...</td>\n",
       "      <td>0</td>\n",
       "      <td>0</td>\n",
       "      <td>0</td>\n",
       "      <td>0</td>\n",
       "      <td>0</td>\n",
       "      <td>0</td>\n",
       "      <td>0</td>\n",
       "      <td>0</td>\n",
       "      <td>0</td>\n",
       "      <td>0</td>\n",
       "    </tr>\n",
       "    <tr>\n",
       "      <th>3</th>\n",
       "      <td>ham</td>\n",
       "      <td>whenre you guys getting back g said you were t...</td>\n",
       "      <td>0</td>\n",
       "      <td>0</td>\n",
       "      <td>0</td>\n",
       "      <td>0</td>\n",
       "      <td>0</td>\n",
       "      <td>0</td>\n",
       "      <td>0</td>\n",
       "      <td>0</td>\n",
       "      <td>...</td>\n",
       "      <td>0</td>\n",
       "      <td>0</td>\n",
       "      <td>0</td>\n",
       "      <td>0</td>\n",
       "      <td>0</td>\n",
       "      <td>0</td>\n",
       "      <td>0</td>\n",
       "      <td>0</td>\n",
       "      <td>0</td>\n",
       "      <td>0</td>\n",
       "    </tr>\n",
       "    <tr>\n",
       "      <th>4</th>\n",
       "      <td>ham</td>\n",
       "      <td>tell my  bad character which u dnt lik in me i...</td>\n",
       "      <td>0</td>\n",
       "      <td>0</td>\n",
       "      <td>0</td>\n",
       "      <td>0</td>\n",
       "      <td>1</td>\n",
       "      <td>0</td>\n",
       "      <td>0</td>\n",
       "      <td>0</td>\n",
       "      <td>...</td>\n",
       "      <td>0</td>\n",
       "      <td>0</td>\n",
       "      <td>0</td>\n",
       "      <td>0</td>\n",
       "      <td>0</td>\n",
       "      <td>0</td>\n",
       "      <td>0</td>\n",
       "      <td>0</td>\n",
       "      <td>0</td>\n",
       "      <td>0</td>\n",
       "    </tr>\n",
       "  </tbody>\n",
       "</table>\n",
       "<p>5 rows × 7324 columns</p>\n",
       "</div>"
      ],
      "text/plain": [
       "  Label                                            Message  yeah  do  don‘t  \\\n",
       "0   ham  yeah do don‘t stand to close tho you‘ll catch ...     1   2      1   \n",
       "1   ham  hi  where are you were at  and theyre not keen...     0   2      0   \n",
       "2   ham         if you r  home then come down within 5 min     0   1      0   \n",
       "3   ham  whenre you guys getting back g said you were t...     0   0      0   \n",
       "4   ham  tell my  bad character which u dnt lik in me i...     0   0      0   \n",
       "\n",
       "   stand  to  close  tho  you‘ll  ...  skyving  kkyesterday  arr  oscar  \\\n",
       "0      1   1      1    1       1  ...        0            0    0      0   \n",
       "1      0   2      0    0       0  ...        0            0    0      0   \n",
       "2      0   0      0    0       0  ...        0            0    0      0   \n",
       "3      0   0      0    0       0  ...        0            0    0      0   \n",
       "4      0   1      0    0       0  ...        0            0    0      0   \n",
       "\n",
       "   assumed  ceri  rebel  dreamz  buddy  recdthirtyeight  \n",
       "0        0     0      0       0      0                0  \n",
       "1        0     0      0       0      0                0  \n",
       "2        0     0      0       0      0                0  \n",
       "3        0     0      0       0      0                0  \n",
       "4        0     0      0       0      0                0  \n",
       "\n",
       "[5 rows x 7324 columns]"
      ]
     },
     "execution_count": 11,
     "metadata": {},
     "output_type": "execute_result"
    }
   ],
   "source": [
    "training_sms_count = pd.concat([training_sms, words_count_data], axis = 1)\n",
    "training_sms_count.head()"
   ]
  },
  {
   "cell_type": "code",
   "execution_count": 12,
   "metadata": {},
   "outputs": [
    {
     "data": {
      "text/plain": [
       "(4458, 7324)"
      ]
     },
     "execution_count": 12,
     "metadata": {},
     "output_type": "execute_result"
    }
   ],
   "source": [
    "training_sms_count.shape"
   ]
  },
  {
   "cell_type": "markdown",
   "metadata": {},
   "source": [
    "## Problog Example"
   ]
  },
  {
   "cell_type": "code",
   "execution_count": 13,
   "metadata": {},
   "outputs": [],
   "source": [
    "modeltext = \"\"\"\n",
    "    my_uniform(0,10)::a.\n",
    "    0.5::b.\n",
    "    c :- value(a, A), A >= 3; b.\n",
    "    query(a).\n",
    "    query(b).\n",
    "    query(c).\n",
    "\"\"\"\n",
    "\n",
    "# Define a function that generates a sample.\n",
    "def integer_uniform(a, b):\n",
    "    return math.floor(random.uniform(a, b))\n",
    "\n",
    "model = PrologString(modeltext)\n",
    "# Pass the mapping between name and function using the distributions parameter.\n",
    "result = sample.sample(model, n=3, format='dict', distributions={'my_uniform': integer_uniform})"
   ]
  },
  {
   "cell_type": "code",
   "execution_count": 14,
   "metadata": {},
   "outputs": [
    {
     "name": "stdout",
     "output_type": "stream",
     "text": [
      "{a: 8, b: True, c: True}\n",
      "{a: 1, b: True, c: True}\n",
      "{a: 0, b: False, c: False}\n"
     ]
    }
   ],
   "source": [
    "for expression in result:\n",
    "    print(expression)"
   ]
  },
  {
   "cell_type": "markdown",
   "metadata": {},
   "source": [
    "## Creating the spam filter"
   ]
  },
  {
   "cell_type": "markdown",
   "metadata": {},
   "source": [
    "#### a. Calculating the constants we need"
   ]
  },
  {
   "cell_type": "code",
   "execution_count": 15,
   "metadata": {},
   "outputs": [
    {
     "name": "stdout",
     "output_type": "stream",
     "text": [
      "n_Spam: 11843\n",
      "n_Ham: 53084\n",
      "n_Words: 7322\n"
     ]
    }
   ],
   "source": [
    "#Splits the \"spam\" and \"ham\" messages\n",
    "training_spam = training_sms_count[training_sms_count[\"Label\"] == \"spam\"]\n",
    "training_ham = training_sms_count[training_sms_count[\"Label\"] == \"ham\"]\n",
    "\n",
    "#Calculate N_Spam: the number of words in all the spam messages\n",
    "n_Spam = 0\n",
    "for eachmessage in training_spam[\"Message\"]:\n",
    "    eachmessage = eachmessage.split(\" \")\n",
    "    curcount = 0\n",
    "    for eachword in eachmessage:\n",
    "        #empty word and numbers will not be counted as valid words\n",
    "        if eachword != \"\" and any(char.isdigit() for char in eachword) == False and len(word) > 1:\n",
    "            curcount += 1\n",
    "    n_Spam += curcount\n",
    "\n",
    "#Calculate N_Ham: the number of words in all the non-spam messages\n",
    "n_Ham = 0\n",
    "for eachmessage in training_ham[\"Message\"]:\n",
    "    eachmessage = eachmessage.split(\" \")\n",
    "    curcount = 0\n",
    "    for eachword in eachmessage:\n",
    "        #empty word and numbers will not be counted as valid words\n",
    "        if eachword != \"\" and any(char.isdigit() for char in eachword) == False and len(word) > 1:\n",
    "            curcount += 1\n",
    "    n_Ham += curcount\n",
    "\n",
    "#Calculate n_Words\n",
    "n_Words = len(words)\n",
    "    \n",
    "print(\"n_Spam:\", n_Spam)\n",
    "print(\"n_Ham:\", n_Ham)\n",
    "print(\"n_Words:\", n_Words)"
   ]
  },
  {
   "cell_type": "markdown",
   "metadata": {},
   "source": [
    "#### b. Calculating the probabilities of Pr(wi|spam) and Pr(wi|ham)"
   ]
  },
  {
   "cell_type": "code",
   "execution_count": 16,
   "metadata": {},
   "outputs": [],
   "source": [
    "pSpamWord = {}\n",
    "pHamWord = {}\n",
    "\n",
    "for w in words:\n",
    "    # For Spam message\n",
    "    # Calculate N(wi|Spam)\n",
    "    count = 0\n",
    "    for i in training_spam[w]:\n",
    "        count += i\n",
    "    # Calculate the probability Pr(wi|spam)\n",
    "    prob = count / n_Spam\n",
    "    pSpamWord[w] = prob\n",
    "    \n",
    "    # For Ham message\n",
    "    # Calculate N(wi|Ham)\n",
    "    count = 0\n",
    "    for i in training_ham[w]:\n",
    "        count += i\n",
    "    # Calculate the probability Pr(wi|spam)\n",
    "    prob = count / n_Ham\n",
    "    pHamWord[w] = prob"
   ]
  },
  {
   "cell_type": "markdown",
   "metadata": {},
   "source": [
    "#### c. Building the model"
   ]
  },
  {
   "cell_type": "code",
   "execution_count": 17,
   "metadata": {},
   "outputs": [],
   "source": [
    "pSpam = len(training_spam) / len(training_sms_count) # Pr(Spam)\n",
    "pHam = len(training_ham) / len(training_sms_count) # Pr(Ham)\n",
    "\n",
    "def classify(message):\n",
    "    message = message.split(\" \")\n",
    "    # Calculating Pr(Spam|w1,w2...) and Pr(Ham|w1,w2...)\n",
    "    pSpamWords = 1\n",
    "    pHamWords = 1\n",
    "    for word in message:\n",
    "        if word in pSpamWord:\n",
    "            pSpamWords *= pSpamWord[word]\n",
    "            \n",
    "        if word in pHamWord:\n",
    "            pHamWords *= pHamWord[word]\n",
    "    \n",
    "    pSpamMessage = pSpam * pSpamWords\n",
    "    pHamMessage = pHam * pHamWords\n",
    "    \n",
    "    if pSpamMessage > pHamMessage:\n",
    "        result = \"spam\"\n",
    "    elif pSpamMessage < pHamMessage:\n",
    "        result = \"ham\"\n",
    "    else:\n",
    "        result = \"Can't not classify\"\n",
    "    \n",
    "    return result"
   ]
  },
  {
   "cell_type": "markdown",
   "metadata": {},
   "source": [
    "#### d. Testing"
   ]
  },
  {
   "cell_type": "code",
   "execution_count": 18,
   "metadata": {},
   "outputs": [
    {
     "data": {
      "text/html": [
       "<div>\n",
       "<style scoped>\n",
       "    .dataframe tbody tr th:only-of-type {\n",
       "        vertical-align: middle;\n",
       "    }\n",
       "\n",
       "    .dataframe tbody tr th {\n",
       "        vertical-align: top;\n",
       "    }\n",
       "\n",
       "    .dataframe thead th {\n",
       "        text-align: right;\n",
       "    }\n",
       "</style>\n",
       "<table border=\"1\" class=\"dataframe\">\n",
       "  <thead>\n",
       "    <tr style=\"text-align: right;\">\n",
       "      <th></th>\n",
       "      <th>Label</th>\n",
       "      <th>Message</th>\n",
       "      <th>Prediction</th>\n",
       "    </tr>\n",
       "  </thead>\n",
       "  <tbody>\n",
       "    <tr>\n",
       "      <th>0</th>\n",
       "      <td>ham</td>\n",
       "      <td>yep by the pretty sculpture</td>\n",
       "      <td>ham</td>\n",
       "    </tr>\n",
       "    <tr>\n",
       "      <th>1</th>\n",
       "      <td>ham</td>\n",
       "      <td>yes princess are you going to make me moan</td>\n",
       "      <td>ham</td>\n",
       "    </tr>\n",
       "    <tr>\n",
       "      <th>2</th>\n",
       "      <td>ham</td>\n",
       "      <td>welp apparently he retired</td>\n",
       "      <td>ham</td>\n",
       "    </tr>\n",
       "    <tr>\n",
       "      <th>3</th>\n",
       "      <td>ham</td>\n",
       "      <td>havent</td>\n",
       "      <td>ham</td>\n",
       "    </tr>\n",
       "    <tr>\n",
       "      <th>4</th>\n",
       "      <td>ham</td>\n",
       "      <td>i forgot 2 ask ü all smth theres a card on da ...</td>\n",
       "      <td>ham</td>\n",
       "    </tr>\n",
       "  </tbody>\n",
       "</table>\n",
       "</div>"
      ],
      "text/plain": [
       "  Label                                            Message Prediction\n",
       "0   ham                        yep by the pretty sculpture        ham\n",
       "1   ham         yes princess are you going to make me moan        ham\n",
       "2   ham                         welp apparently he retired        ham\n",
       "3   ham                                             havent        ham\n",
       "4   ham  i forgot 2 ask ü all smth theres a card on da ...        ham"
      ]
     },
     "execution_count": 18,
     "metadata": {},
     "output_type": "execute_result"
    }
   ],
   "source": [
    "testing = []\n",
    "for message in test_sms['Message']:\n",
    "    prediction = classify(message)\n",
    "    testing.append(prediction)\n",
    "    \n",
    "test_result = test_sms.copy()\n",
    "test_result['Prediction'] = testing\n",
    "test_result.head()"
   ]
  },
  {
   "cell_type": "markdown",
   "metadata": {},
   "source": [
    "## Accuracy"
   ]
  },
  {
   "cell_type": "code",
   "execution_count": 19,
   "metadata": {},
   "outputs": [
    {
     "name": "stdout",
     "output_type": "stream",
     "text": [
      "Correct:1045\n",
      "Incorrect:69\n",
      "Accuracy:0.9380610412926391\n"
     ]
    }
   ],
   "source": [
    "correct = 0\n",
    "n_test = len(test_result)\n",
    "    \n",
    "for i in range(n_test):\n",
    "    if test_result['Label'][i] == test_result['Prediction'][i]:\n",
    "        correct += 1\n",
    "\n",
    "incorrect = n_test - correct\n",
    "accuracy = correct/n_test\n",
    "\n",
    "print('Correct:' + str(correct))\n",
    "print('Incorrect:' + str(incorrect))\n",
    "print('Accuracy:' + str(accuracy))"
   ]
  },
  {
   "cell_type": "markdown",
   "metadata": {},
   "source": [
    "### Increase Accuracy by using Lapace Smoothing"
   ]
  },
  {
   "cell_type": "code",
   "execution_count": 20,
   "metadata": {},
   "outputs": [],
   "source": [
    "alpha = 10\n",
    "\n",
    "for w in words:\n",
    "    # For Spam message\n",
    "    # Calculate N(wi|Spam)\n",
    "    count = 0\n",
    "    for i in training_spam[w]:\n",
    "        count += i\n",
    "    # Calculate the probability Pr(wi|spam) by using Lapace Smoothing\n",
    "    prob = (count + alpha) / (n_Spam + alpha * n_Words)\n",
    "    pSpamWord[w] = prob\n",
    "    \n",
    "    # For Ham message\n",
    "    # Calculate N(wi|Ham)\n",
    "    count = 0\n",
    "    for i in training_ham[w]:\n",
    "        count += i\n",
    "    # Calculate the probability Pr(wi|spam) by using Lapace Smoothing\n",
    "    prob = (count + alpha) / (n_Ham + alpha * n_Words)\n",
    "    pHamWord[w] = prob"
   ]
  },
  {
   "cell_type": "code",
   "execution_count": 21,
   "metadata": {},
   "outputs": [
    {
     "name": "stdout",
     "output_type": "stream",
     "text": [
      "          call      stop      free       txt    mobile     claim       top      tone       mob       cal\n",
      "----  --------  --------  --------  --------  --------  --------  --------  --------  --------  --------\n",
      "Spam  0.004068  0.001517  0.002504  0.002187  0.001599  0.001211  0.001716  0.00134   0.002222  0.004115\n",
      "Ham   0.002154  0.000388  0.000515  0.000206  0.00015   7.9e-05   0.000546  0.000135  0.00015   0.002423\n"
     ]
    }
   ],
   "source": [
    "# Finding some words commonly associated with spam\n",
    "spam_words = []\n",
    "for key in pSpamWord:\n",
    "    if pSpamWord[key] - pHamWord[key] > 0.0011 and len(key) > 2:\n",
    "        spam_words.append(key)\n",
    "        \n",
    "# Making table of spam words\n",
    "table = {}\n",
    "for word in spam_words:\n",
    "    table[word] = [round(pSpamWord[word], 6), round(pHamWord[word], 6)]\n",
    "\n",
    "print(tabulate(table, headers='keys', showindex=('Spam', 'Ham')))"
   ]
  },
  {
   "cell_type": "code",
   "execution_count": 22,
   "metadata": {},
   "outputs": [
    {
     "data": {
      "text/html": [
       "<div>\n",
       "<style scoped>\n",
       "    .dataframe tbody tr th:only-of-type {\n",
       "        vertical-align: middle;\n",
       "    }\n",
       "\n",
       "    .dataframe tbody tr th {\n",
       "        vertical-align: top;\n",
       "    }\n",
       "\n",
       "    .dataframe thead th {\n",
       "        text-align: right;\n",
       "    }\n",
       "</style>\n",
       "<table border=\"1\" class=\"dataframe\">\n",
       "  <thead>\n",
       "    <tr style=\"text-align: right;\">\n",
       "      <th></th>\n",
       "      <th>Label</th>\n",
       "      <th>Message</th>\n",
       "      <th>Prediction</th>\n",
       "    </tr>\n",
       "  </thead>\n",
       "  <tbody>\n",
       "    <tr>\n",
       "      <th>0</th>\n",
       "      <td>ham</td>\n",
       "      <td>yep by the pretty sculpture</td>\n",
       "      <td>ham</td>\n",
       "    </tr>\n",
       "    <tr>\n",
       "      <th>1</th>\n",
       "      <td>ham</td>\n",
       "      <td>yes princess are you going to make me moan</td>\n",
       "      <td>ham</td>\n",
       "    </tr>\n",
       "    <tr>\n",
       "      <th>2</th>\n",
       "      <td>ham</td>\n",
       "      <td>welp apparently he retired</td>\n",
       "      <td>ham</td>\n",
       "    </tr>\n",
       "    <tr>\n",
       "      <th>3</th>\n",
       "      <td>ham</td>\n",
       "      <td>havent</td>\n",
       "      <td>ham</td>\n",
       "    </tr>\n",
       "    <tr>\n",
       "      <th>4</th>\n",
       "      <td>ham</td>\n",
       "      <td>i forgot 2 ask ü all smth theres a card on da ...</td>\n",
       "      <td>ham</td>\n",
       "    </tr>\n",
       "  </tbody>\n",
       "</table>\n",
       "</div>"
      ],
      "text/plain": [
       "  Label                                            Message Prediction\n",
       "0   ham                        yep by the pretty sculpture        ham\n",
       "1   ham         yes princess are you going to make me moan        ham\n",
       "2   ham                         welp apparently he retired        ham\n",
       "3   ham                                             havent        ham\n",
       "4   ham  i forgot 2 ask ü all smth theres a card on da ...        ham"
      ]
     },
     "execution_count": 22,
     "metadata": {},
     "output_type": "execute_result"
    }
   ],
   "source": [
    "testing = []\n",
    "for message in test_sms['Message']:\n",
    "    prediction = classify(message)\n",
    "    testing.append(prediction)\n",
    "    \n",
    "test_result_improve = test_sms.copy()\n",
    "test_result_improve['Prediction'] = testing\n",
    "test_result_improve.head()"
   ]
  },
  {
   "cell_type": "code",
   "execution_count": 23,
   "metadata": {},
   "outputs": [
    {
     "name": "stdout",
     "output_type": "stream",
     "text": [
      "Correct:1050\n",
      "Incorrect:64\n",
      "Accuracy:0.9425493716337523\n"
     ]
    }
   ],
   "source": [
    "correct = 0\n",
    "n_test = len(test_result_improve)\n",
    "    \n",
    "for i in range(n_test):\n",
    "    if test_result_improve['Label'][i] == test_result_improve['Prediction'][i]:\n",
    "        correct += 1\n",
    "\n",
    "incorrect = n_test - correct\n",
    "accuracy = correct/n_test\n",
    "\n",
    "print('Correct:' + str(correct))\n",
    "print('Incorrect:' + str(incorrect))\n",
    "print('Accuracy:' + str(accuracy))"
   ]
  },
  {
   "cell_type": "code",
   "execution_count": null,
   "metadata": {},
   "outputs": [],
   "source": []
  },
  {
   "cell_type": "code",
   "execution_count": null,
   "metadata": {},
   "outputs": [],
   "source": []
  }
 ],
 "metadata": {
  "kernelspec": {
   "display_name": "Python 3",
   "language": "python",
   "name": "python3"
  },
  "language_info": {
   "codemirror_mode": {
    "name": "ipython",
    "version": 3
   },
   "file_extension": ".py",
   "mimetype": "text/x-python",
   "name": "python",
   "nbconvert_exporter": "python",
   "pygments_lexer": "ipython3",
   "version": "3.8.5"
  }
 },
 "nbformat": 4,
 "nbformat_minor": 4
}
